{
 "cells": [
  {
   "cell_type": "code",
   "execution_count": 1,
   "metadata": {},
   "outputs": [],
   "source": [
    "import pickle\n",
    "\n",
    "with open(\"chianti_db.pkl\",\"rb\") as input:\n",
    "    ch = pickle.load(input)"
   ]
  },
  {
   "cell_type": "code",
   "execution_count": 2,
   "metadata": {},
   "outputs": [],
   "source": [
    "ion = \"AlII\"\n",
    "wvl = 51.01"
   ]
  },
  {
   "cell_type": "code",
   "execution_count": 3,
   "metadata": {},
   "outputs": [
    {
     "data": {
      "text/plain": [
       "'NiXVIII'"
      ]
     },
     "execution_count": 3,
     "metadata": {},
     "output_type": "execute_result"
    }
   ],
   "source": [
    "ch.getIon(wvl)"
   ]
  },
  {
   "cell_type": "code",
   "execution_count": 4,
   "metadata": {},
   "outputs": [
    {
     "data": {
      "text/plain": [
       "[935.274,\n",
       " 1169.8459,\n",
       " 1670.787,\n",
       " 1719.442,\n",
       " 1721.244,\n",
       " 1721.271,\n",
       " 1724.922,\n",
       " 1724.949,\n",
       " 1724.9821,\n",
       " 1760.106,\n",
       " 1761.9771,\n",
       " 1763.869,\n",
       " 1763.952,\n",
       " 1765.816,\n",
       " 1767.7321,\n",
       " 1855.926,\n",
       " 1858.025,\n",
       " 1862.311,\n",
       " 1931.05,\n",
       " 1990.533,\n",
       " 2082.1431,\n",
       " 2087.5271,\n",
       " 2669.948,\n",
       " 2817.0139,\n",
       " 3901.7791,\n",
       " 4664.3511,\n",
       " 7044.0249,\n",
       " 7058.6572,\n",
       " 7065.6279,\n",
       " 8643.0723,\n",
       " 10079.1133,\n",
       " 10080.2158,\n",
       " 10110.209,\n",
       " 10111.1602,\n",
       " 10125.4688]"
      ]
     },
     "execution_count": 4,
     "metadata": {},
     "output_type": "execute_result"
    }
   ],
   "source": [
    "ch.getWavelengths(ion)"
   ]
  }
 ],
 "metadata": {
  "kernelspec": {
   "display_name": "Python 3",
   "language": "python",
   "name": "python3"
  },
  "language_info": {
   "codemirror_mode": {
    "name": "ipython",
    "version": 3
   },
   "file_extension": ".py",
   "mimetype": "text/x-python",
   "name": "python",
   "nbconvert_exporter": "python",
   "pygments_lexer": "ipython3",
   "version": "3.6.4"
  }
 },
 "nbformat": 4,
 "nbformat_minor": 2
}
